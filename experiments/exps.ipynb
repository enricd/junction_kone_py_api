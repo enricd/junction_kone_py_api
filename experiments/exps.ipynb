{
 "cells": [
  {
   "cell_type": "code",
   "execution_count": 1,
   "metadata": {},
   "outputs": [],
   "source": [
    "import numpy as np"
   ]
  },
  {
   "cell_type": "code",
   "execution_count": 3,
   "metadata": {},
   "outputs": [
    {
     "name": "stdout",
     "output_type": "stream",
     "text": [
      "3D object exported to STL and glTF formats.\n"
     ]
    }
   ],
   "source": [
    "import numpy as np\n",
    "import trimesh\n",
    "\n",
    "# Define the 2D polygon as a list of (x, y) coordinates\n",
    "polygon_2d = [(0, 0), (1, 0), (1, 1), (0, 1)]\n",
    "\n",
    "# Convert the 2D polygon to a numpy array\n",
    "vertices_2d = np.array(polygon_2d)\n",
    "\n",
    "# Create the vertices for the top and bottom faces of the extruded polygon\n",
    "vertices_top = np.hstack([vertices_2d, np.ones((vertices_2d.shape[0], 1))])\n",
    "vertices_bottom = np.hstack([vertices_2d, np.zeros((vertices_2d.shape[0], 1))])\n",
    "\n",
    "# Combine the vertices\n",
    "vertices = np.vstack([vertices_bottom, vertices_top])\n",
    "\n",
    "# Create the faces for the top and bottom faces\n",
    "faces_bottom = [[i, (i + 1) % len(vertices_2d), (i + 1) % len(vertices_2d) + len(vertices_2d)] for i in range(len(vertices_2d))]\n",
    "faces_top = [[i, i + len(vertices_2d), (i + 1) % len(vertices_2d) + len(vertices_2d)] for i in range(len(vertices_2d))]\n",
    "\n",
    "# Create the faces for the sides\n",
    "faces_side = []\n",
    "for i in range(len(vertices_2d)):\n",
    "    next_i = (i + 1) % len(vertices_2d)\n",
    "    faces_side.append([i, next_i, next_i + len(vertices_2d)])\n",
    "    faces_side.append([i, next_i + len(vertices_2d), i + len(vertices_2d)])\n",
    "\n",
    "# Combine all faces\n",
    "faces = np.array(faces_bottom + faces_top + faces_side)\n",
    "\n",
    "# Create the mesh\n",
    "mesh = trimesh.Trimesh(vertices=vertices, faces=faces)\n",
    "\n",
    "# Export the mesh to STL format\n",
    "mesh.export('polygon_extruded.stl')\n",
    "\n",
    "# Export the mesh to glTF format\n",
    "mesh.export('polygon_extruded.glb')\n",
    "\n",
    "print(\"3D object exported to STL and glTF formats.\")"
   ]
  },
  {
   "cell_type": "code",
   "execution_count": 1,
   "metadata": {},
   "outputs": [
    {
     "data": {
      "text/plain": [
       "b'glTF\\x02\\x00\\x00\\x00\\xa8\\x03\\x00\\x00\\x9c\\x02\\x00\\x00JSON{\"scene\":0,\"scenes\":[{\"nodes\":[0]}],\"asset\":{\"version\":\"2.0\",\"generator\":\"https://github.com/mikedh/trimesh\"},\"accessors\":[{\"componentType\":5125,\"type\":\"SCALAR\",\"bufferView\":0,\"count\":36,\"max\":[7],\"min\":[0]},{\"componentType\":5126,\"type\":\"VEC3\",\"byteOffset\":0,\"bufferView\":1,\"count\":8,\"max\":[2.0,1.0,1.0],\"min\":[0.0,0.0,0.0]}],\"meshes\":[{\"name\":\"geometry_0\",\"extras\":{\"processed\":true},\"primitives\":[{\"attributes\":{\"POSITION\":1},\"indices\":0,\"mode\":4}]}],\"nodes\":[{\"name\":\"world\",\"children\":[1]},{\"name\":\"geometry_0\",\"mesh\":0}],\"buffers\":[{\"byteLength\":240}],\"bufferViews\":[{\"buffer\":0,\"byteOffset\":0,\"byteLength\":144},{\"buffer\":0,\"byteOffset\":144,\"byteLength\":96}]}    \\xf0\\x00\\x00\\x00BIN\\x00\\x01\\x00\\x00\\x00\\x00\\x00\\x00\\x00\\x03\\x00\\x00\\x00\\x03\\x00\\x00\\x00\\x02\\x00\\x00\\x00\\x01\\x00\\x00\\x00\\x07\\x00\\x00\\x00\\x04\\x00\\x00\\x00\\x05\\x00\\x00\\x00\\x05\\x00\\x00\\x00\\x06\\x00\\x00\\x00\\x07\\x00\\x00\\x00\\x05\\x00\\x00\\x00\\x04\\x00\\x00\\x00\\x01\\x00\\x00\\x00\\x01\\x00\\x00\\x00\\x04\\x00\\x00\\x00\\x00\\x00\\x00\\x00\\x06\\x00\\x00\\x00\\x05\\x00\\x00\\x00\\x02\\x00\\x00\\x00\\x02\\x00\\x00\\x00\\x05\\x00\\x00\\x00\\x01\\x00\\x00\\x00\\x04\\x00\\x00\\x00\\x07\\x00\\x00\\x00\\x00\\x00\\x00\\x00\\x00\\x00\\x00\\x00\\x07\\x00\\x00\\x00\\x03\\x00\\x00\\x00\\x07\\x00\\x00\\x00\\x06\\x00\\x00\\x00\\x03\\x00\\x00\\x00\\x03\\x00\\x00\\x00\\x06\\x00\\x00\\x00\\x02\\x00\\x00\\x00\\x00\\x00\\x00\\x00\\x00\\x00\\x00\\x00\\x00\\x00\\x00\\x00\\x00\\x00\\x00@\\x00\\x00\\x00\\x00\\x00\\x00\\x00\\x00\\x00\\x00\\xc0?\\x00\\x00\\x80?\\x00\\x00\\x00\\x00\\x00\\x00\\x00?\\x00\\x00\\x80?\\x00\\x00\\x00\\x00\\x00\\x00\\x00\\x00\\x00\\x00\\x00\\x00\\x00\\x00\\x80?\\x00\\x00\\x00@\\x00\\x00\\x00\\x00\\x00\\x00\\x80?\\x00\\x00\\xc0?\\x00\\x00\\x80?\\x00\\x00\\x80?\\x00\\x00\\x00?\\x00\\x00\\x80?\\x00\\x00\\x80?'"
      ]
     },
     "execution_count": 1,
     "metadata": {},
     "output_type": "execute_result"
    }
   ],
   "source": [
    "import trimesh\n",
    "from shapely.geometry import Polygon\n",
    "\n",
    "# Example polygon points (you can replace these with your own)\n",
    "polygon_points = [\n",
    "    (0, 0),\n",
    "    (2, 0),\n",
    "    (1.5, 1),\n",
    "    (0.5, 1)\n",
    "]\n",
    "\n",
    "# Create a Shapely Polygon from the list of points\n",
    "polygon = Polygon(polygon_points)\n",
    "\n",
    "# Define the extrusion height along the z-axis\n",
    "extrusion_height = 1.0  # You can set this to any value you like\n",
    "\n",
    "# Extrude the polygon to create a 3D mesh\n",
    "mesh = trimesh.creation.extrude_polygon(polygon, extrusion_height)\n",
    "\n",
    "# Export the mesh to an STL file\n",
    "mesh.export('assets/output.stl')\n",
    "\n",
    "# Export the mesh to a glTF (GLB) file\n",
    "mesh.export('assets/output.glb')  # .glb is the binary version of glTF"
   ]
  },
  {
   "cell_type": "code",
   "execution_count": 2,
   "metadata": {},
   "outputs": [
    {
     "name": "stdout",
     "output_type": "stream",
     "text": [
      "Building mesh exported to building.stl\n",
      "Building mesh exported to building.glb\n"
     ]
    }
   ],
   "source": [
    "import trimesh\n",
    "from shapely.geometry import Polygon\n",
    "\n",
    "# Define the outer boundary of the building\n",
    "outer_boundary = [\n",
    "    (0, 0),\n",
    "    (10, 0),\n",
    "    (10, 8),\n",
    "    (6, 8),\n",
    "    (6, 5),\n",
    "    (4, 5),\n",
    "    (4, 8),\n",
    "    (0, 8)\n",
    "]\n",
    "\n",
    "# Create the outer polygon\n",
    "outer_polygon = Polygon(outer_boundary)\n",
    "\n",
    "if not outer_polygon.is_valid:\n",
    "    raise ValueError(\"Invalid outer boundary.\")\n",
    "\n",
    "# Define wall thickness\n",
    "wall_thickness = 0.2\n",
    "\n",
    "# Create the inner polygon\n",
    "inner_polygon = outer_polygon.buffer(-wall_thickness)\n",
    "\n",
    "if inner_polygon.is_empty or not inner_polygon.is_valid:\n",
    "    raise ValueError(\"Invalid wall thickness or building dimensions too small.\")\n",
    "\n",
    "# Compute the wall area\n",
    "wall_area = outer_polygon.difference(inner_polygon)\n",
    "\n",
    "if wall_area.is_empty or not wall_area.is_valid:\n",
    "    raise ValueError(\"The wall area could not be computed correctly.\")\n",
    "\n",
    "# Define wall height\n",
    "wall_height = 3.0\n",
    "\n",
    "# Extrude walls\n",
    "walls_mesh = trimesh.creation.extrude_polygon(wall_area, wall_height)\n",
    "\n",
    "# Define floor thickness\n",
    "floor_thickness = 0.1\n",
    "\n",
    "# Extrude floor\n",
    "floor_mesh = trimesh.creation.extrude_polygon(outer_polygon, floor_thickness)\n",
    "\n",
    "# Combine meshes\n",
    "building_mesh = trimesh.util.concatenate([floor_mesh, walls_mesh])\n",
    "\n",
    "# Export to STL\n",
    "building_mesh.export('building.stl')\n",
    "print(\"Building mesh exported to building.stl\")\n",
    "\n",
    "# Export to glTF (binary .glb)\n",
    "building_mesh.export('building.glb')\n",
    "print(\"Building mesh exported to building.glb\")"
   ]
  }
 ],
 "metadata": {
  "kernelspec": {
   "display_name": "venv",
   "language": "python",
   "name": "python3"
  },
  "language_info": {
   "codemirror_mode": {
    "name": "ipython",
    "version": 3
   },
   "file_extension": ".py",
   "mimetype": "text/x-python",
   "name": "python",
   "nbconvert_exporter": "python",
   "pygments_lexer": "ipython3",
   "version": "3.11.4"
  },
  "orig_nbformat": 4
 },
 "nbformat": 4,
 "nbformat_minor": 2
}
